{
 "cells": [
  {
   "cell_type": "markdown",
   "metadata": {},
   "source": [
    "# Connection to Library DB"
   ]
  },
  {
   "cell_type": "code",
   "execution_count": 20,
   "metadata": {},
   "outputs": [],
   "source": [
    "\n",
    "import mysql.connector\n",
    "\n",
    "library = mysql.connector.connect(user='root', password='1514',\n",
    "                              host='127.0.0.1',\n",
    "                              database='library')"
   ]
  },
  {
   "cell_type": "code",
   "execution_count": 21,
   "metadata": {},
   "outputs": [],
   "source": [
    "cursor = library.cursor()"
   ]
  },
  {
   "cell_type": "code",
   "execution_count": 22,
   "metadata": {},
   "outputs": [
    {
     "name": "stdout",
     "output_type": "stream",
     "text": [
      "(1, 'Walden, and On The Duty Of Civil Disobedience', 'Henry David Thoreau', 1849, 3100471153)\n",
      "(2, 'The Scarlet Letter', 'Nathaniel Hawthorne', 1850, 4589408958)\n",
      "(3, 'The Adventures of Sherlock Holmes', 'Arthur Conan Doyle', 1892, 2411676280)\n",
      "(4, 'The Adventures of Tom Sawyer', 'Mark Twain', 1876, 7813216705)\n",
      "(5, 'David Copperfield', 'Charles Dickens', 1850, 8821265677)\n"
     ]
    }
   ],
   "source": [
    "# Test query \n",
    "query = (\"SELECT * FROM library.books;\")\n",
    "\n",
    "cursor.execute(query)\n",
    "\n",
    "data = cursor.fetchmany(5)\n",
    "for x in data:\n",
    "    print(x)"
   ]
  },
  {
   "cell_type": "markdown",
   "metadata": {},
   "source": [
    "# Find the number of availabe copies of Dracula"
   ]
  },
  {
   "cell_type": "code",
   "execution_count": 24,
   "metadata": {},
   "outputs": [
    {
     "name": "stdout",
     "output_type": "stream",
     "text": [
      "(4,)\n"
     ]
    }
   ],
   "source": [
    "# check total copies of the book\n",
    "library.reconnect()\n",
    "query = ('''    SELECT  COUNT(BookID) AS TotalCopies\n",
    "                FROM Books\n",
    "                WHERE Title LIKE '%Dracula%';            ''')\n",
    "\n",
    "cursor.execute(query)\n",
    "\n",
    "data = cursor.fetchall()\n",
    "for x in data:\n",
    "    print(x)"
   ]
  },
  {
   "cell_type": "code",
   "execution_count": 25,
   "metadata": {},
   "outputs": [
    {
     "name": "stdout",
     "output_type": "stream",
     "text": [
      "(1999, 73, 59, '2020-06-29', '2020-07-13', None, 1)\n"
     ]
    }
   ],
   "source": [
    "# current total loans of the book\n",
    "\n",
    "query = ('''    SELECT *, COUNT(LoanID) AS TotalLoans\n",
    "                FROM Loans\n",
    "                WHERE BookID IN (\n",
    "                SELECT BookID FROM Books WHERE Title LIKE '%Dracula%')\n",
    "                AND ReturnedDate IS NULL;            ''')\n",
    "\n",
    "cursor.execute(query)\n",
    "\n",
    "data = cursor.fetchall()\n",
    "for x in data:\n",
    "    print(x)"
   ]
  },
  {
   "cell_type": "code",
   "execution_count": 26,
   "metadata": {},
   "outputs": [
    {
     "name": "stdout",
     "output_type": "stream",
     "text": [
      "(3,)\n"
     ]
    }
   ],
   "source": [
    "# total available book\n",
    "\n",
    "query = ('''    SELECT\n",
    "\t                    (SELECT COUNT(BookID) AS TotalCopies\n",
    "\t                    FROM Books\n",
    "\t                    WHERE Title LIKE '%Dracula%')\n",
    "\t            -\n",
    "\t                    (SELECT COUNT(LoanID) AS TotalLoans\n",
    "\t                    FROM Loans\n",
    "\t                    WHERE BookID IN (SELECT BookID FROM Books WHERE Title LIKE '%Dracula%')\n",
    "\t                    AND ReturnedDate IS NULL) AS AvailableBooks;            ''')\n",
    "\n",
    "cursor.execute(query)\n",
    "\n",
    "data = cursor.fetchall()\n",
    "for x in data:\n",
    "    print(x)"
   ]
  },
  {
   "cell_type": "markdown",
   "metadata": {},
   "source": [
    "# Check books for Due back                             \n",
    "> generate a report of books due back on July 13, 2020 with patron contact information"
   ]
  },
  {
   "cell_type": "code",
   "execution_count": 7,
   "metadata": {},
   "outputs": [
    {
     "name": "stdout",
     "output_type": "stream",
     "text": [
      "('Kala', 'Simonian', 'ksimonian2q@landonhotel.com', 'The Count of Monte Cristo', '2020-06-29', '2020-07-13')\n",
      "('Lydie', 'Awmack', 'lawmack1a@samoca.org', 'The Prophet', '2020-06-29', '2020-07-13')\n",
      "('Anthe', 'Dinjes', 'adinjesh@samoca.org', 'Second Treatise of Government', '2020-06-29', '2020-07-13')\n",
      "('Cornelia', 'Koppe', 'ckoppe1m@landonhotel.com', 'Dracula', '2020-06-29', '2020-07-13')\n"
     ]
    }
   ],
   "source": [
    "query = ('''    SELECT p.FirstName, p.LastName, p.Email, b.Title, l.LoanDate, l.DueDate\n",
    "                FROM Loans l\n",
    "                JOIN Books b ON l.BookID = b.BookID\n",
    "                JOIN Patrons p ON l.PatronID = p.PatronID\n",
    "                WHERE l.DueDate = '2020-07-13'\n",
    "                AND ReturnedDate IS NULL;          ''')\n",
    "\n",
    "cursor.execute(query)\n",
    "\n",
    "data = cursor.fetchall()\n",
    "for x in data:\n",
    "    print(x)"
   ]
  },
  {
   "cell_type": "markdown",
   "metadata": {},
   "source": [
    "# Return books to the library"
   ]
  },
  {
   "cell_type": "code",
   "execution_count": 8,
   "metadata": {},
   "outputs": [],
   "source": [
    "query = ('''    SELECT * FROM Loans\n",
    "                WHERE BookID IN (SELECT BookID FROM Books\n",
    "                WHERE Barcode = 6435968624)\n",
    "                AND ReturnedDate IS NULL;\n",
    "\n",
    "                UPDATE Loans\n",
    "                SET ReturnedDate = '2020-07-05'\n",
    "                WHERE BookID IN \n",
    "                    (SELECT BookID FROM Books WHERE Barcode = 6435968624)\n",
    "                AND ReturnedDate IS NULL;         ''')\n",
    "\n",
    "cursor.execute(query)\n",
    "\n",
    "data = cursor.fetchall()\n",
    "for x in data:\n",
    "    print(x)"
   ]
  },
  {
   "cell_type": "markdown",
   "metadata": {},
   "source": [
    "# Encourage Patrons to check out books\n",
    "> generate a report of showing 10 patrons who have checked out the fewest books."
   ]
  },
  {
   "cell_type": "code",
   "execution_count": 9,
   "metadata": {},
   "outputs": [
    {
     "name": "stdout",
     "output_type": "stream",
     "text": [
      "('Caril', 'Matejic', 'cmatejic2a@orangevalleycaa.org', 9)\n",
      "('Alaster', 'Ruggles', 'aruggles1w@red30design.com', 9)\n",
      "('Merle', 'Sukbhans', 'msukbhans20@orangevalleycaa.org', 11)\n",
      "('Norby', 'Sleight', 'nsleight1r@kinetecoinc.com', 12)\n",
      "('Curr', 'Fittall', 'cfittall2l@orangevalleycaa.org', 12)\n",
      "('Cammi', 'Kynett', 'ckynett6@orangevalleycaa.org', 14)\n",
      "('Aleen', 'Fasey', 'afasey2@kinetecoinc.com', 14)\n",
      "('Orton', 'Stavers', 'ostaversb@orangevalleycaa.org', 14)\n",
      "('Carla', 'Swinfen', 'cswinfenf@kinetecoinc.com', 14)\n",
      "('Don', 'Weingarten', 'dweingarten@kinetecoinc.com', 15)\n"
     ]
    }
   ],
   "source": [
    "library.reconnect()\n",
    "cursor = library.cursor()\n",
    "query = ('''    SELECT p.FirstName, p.LastName, p.Email, COUNT(p.PatronID) AS Total_Loans\n",
    "                FROM Patrons p\n",
    "                LEFT JOIN Loans l\n",
    "                ON p.PatronID = l.PatronID\n",
    "                GROUP BY p.PatronID\n",
    "                ORDER BY 4 ASC\n",
    "                LIMIT 10;       ''')\n",
    "\n",
    "cursor.execute(query)\n",
    "\n",
    "data = cursor.fetchall()\n",
    "for x in data:\n",
    "    print(x)        "
   ]
  },
  {
   "cell_type": "markdown",
   "metadata": {},
   "source": [
    "# Find books to feature for an event                  \n",
    " > create a list of books from 1890s that are currently available   "
   ]
  },
  {
   "cell_type": "code",
   "execution_count": 10,
   "metadata": {},
   "outputs": [
    {
     "name": "stdout",
     "output_type": "stream",
     "text": [
      "(3, 'The Adventures of Sherlock Holmes', 'Arthur Conan Doyle', 1892, 5)\n",
      "(7, 'The Sign of the Four', 'Arthur Conan Doyle', 1890, 13)\n",
      "(8, 'The Importance of Being Earnest: A Trivial Comedy for Serious People', 'Oscar Wilde', 1895, 10)\n",
      "(11, 'The Picture of Dorian Gray', 'Oscar Wilde', 1890, 15)\n",
      "(12, 'Dracula', 'Bram Stoker', 1897, 6)\n",
      "(14, 'The Awakening, and Selected Short Stories', 'Kate Chopin', 1899, 16)\n",
      "(15, 'The Time Machine', 'H. G. Wells', 1895, 9)\n",
      "(17, 'Les Misérables', 'Victor Hugo', 1895, 5)\n",
      "(18, 'The Jungle Book', 'Rudyard Kipling', 1894, 7)\n",
      "(19, 'Heart of Darkness', 'Joseph Conrad', 1899, 13)\n",
      "(26, 'The Adventures of Sherlock Holmes', 'Arthur Conan Doyle', 1892, 14)\n",
      "(28, 'Heart of Darkness', 'Joseph Conrad', 1899, 6)\n",
      "(43, 'The Yellow Wallpaper', 'Charlotte Perkins Gilman', 1892, 12)\n",
      "(54, 'The Yellow Wallpaper', 'Charlotte Perkins Gilman', 1892, 11)\n",
      "(55, 'An Occurrence at Owl Creek Bridge', 'Ambrose Bierce', 1890, 14)\n",
      "(56, 'The Picture of Dorian Gray', 'Oscar Wilde', 1890, 10)\n",
      "(59, 'The War of the Worlds', 'H. G. Wells', 1898, 13)\n",
      "(60, 'Dracula', 'Bram Stoker', 1897, 13)\n",
      "(67, 'Les Misérables', 'Victor Hugo', 1895, 9)\n",
      "(70, 'Also sprach Zarathustra', 'Friedrich Wilhelm Nietzsche', 1896, 12)\n",
      "(72, 'The Yellow Wallpaper', 'Charlotte Perkins Gilman', 1892, 8)\n",
      "(73, 'Dracula', 'Bram Stoker', 1897, 12)\n",
      "(91, 'The Importance of Being Earnest: A Trivial Comedy for Serious People', 'Oscar Wilde', 1895, 11)\n",
      "(95, 'Also sprach Zarathustra', 'Friedrich Wilhelm Nietzsche', 1896, 9)\n",
      "(98, 'An Occurrence at Owl Creek Bridge', 'Ambrose Bierce', 1890, 10)\n",
      "(100, 'The Jungle Book', 'Rudyard Kipling', 1894, 13)\n",
      "(105, 'The Turn of the Screw', 'Henry James', 1898, 12)\n",
      "(112, 'The War of the Worlds', 'H. G. Wells', 1898, 20)\n",
      "(117, 'The Time Machine', 'H. G. Wells', 1895, 10)\n",
      "(124, 'The Adventures of Sherlock Holmes', 'Arthur Conan Doyle', 1892, 7)\n",
      "(126, 'The Awakening, and Selected Short Stories', 'Kate Chopin', 1899, 17)\n",
      "(128, 'The Picture of Dorian Gray', 'Oscar Wilde', 1890, 14)\n",
      "(129, 'Also sprach Zarathustra', 'Friedrich Wilhelm Nietzsche', 1896, 7)\n",
      "(134, 'The Sign of the Four', 'Arthur Conan Doyle', 1890, 3)\n",
      "(138, 'The Sign of the Four', 'Arthur Conan Doyle', 1890, 9)\n",
      "(149, 'The Importance of Being Earnest: A Trivial Comedy for Serious People', 'Oscar Wilde', 1895, 10)\n",
      "(154, 'An Occurrence at Owl Creek Bridge', 'Ambrose Bierce', 1890, 8)\n",
      "(157, 'Les Misérables', 'Victor Hugo', 1895, 11)\n",
      "(160, 'The War of the Worlds', 'H. G. Wells', 1898, 10)\n",
      "(165, 'The Turn of the Screw', 'Henry James', 1898, 10)\n",
      "(175, 'The Time Machine', 'H. G. Wells', 1895, 8)\n",
      "(189, 'The Jungle Book', 'Rudyard Kipling', 1894, 8)\n",
      "(192, 'The Turn of the Screw', 'Henry James', 1898, 15)\n",
      "(196, 'The Awakening, and Selected Short Stories', 'Kate Chopin', 1899, 10)\n"
     ]
    }
   ],
   "source": [
    "query = ('''    SELECT b.BookID, b.Title, b.Author, b.Published, COUNT(b.BookID) AS TotalAvailableBooks\n",
    "                FROM Books b\n",
    "                LEFT JOIN Loans l\n",
    "                ON b.BookID = l.BookID\n",
    "                WHERE ReturnedDate IS NOT NULL\n",
    "                AND b.Published BETWEEN 1890 AND 1899\n",
    "                GROUP BY b.BookID\n",
    "                ORDER BY b.BookID;       ''')\n",
    "\n",
    "cursor.execute(query)\n",
    "\n",
    "data = cursor.fetchall()\n",
    "for x in data:\n",
    "    print(x)        "
   ]
  },
  {
   "cell_type": "markdown",
   "metadata": {},
   "source": [
    "# Book Statistics \n"
   ]
  },
  {
   "cell_type": "markdown",
   "metadata": {},
   "source": [
    "## create a report to show how many books were published each year.  "
   ]
  },
  {
   "cell_type": "code",
   "execution_count": 11,
   "metadata": {},
   "outputs": [
    {
     "name": "stdout",
     "output_type": "stream",
     "text": [
      "(1895, 3)\n",
      "(1890, 3)\n",
      "(1847, 2)\n",
      "(1911, 2)\n",
      "(1884, 2)\n",
      "(1859, 2)\n",
      "(1898, 2)\n",
      "(1899, 2)\n",
      "(1729, 2)\n",
      "(1892, 2)\n",
      "(1850, 2)\n",
      "(1869, 2)\n",
      "(1922, 2)\n",
      "(1532, 1)\n",
      "(1605, 1)\n",
      "(1670, 1)\n",
      "(1689, 1)\n",
      "(1726, 1)\n",
      "(1791, 1)\n",
      "(1811, 1)\n",
      "(1813, 1)\n",
      "(1815, 1)\n",
      "(1818, 1)\n",
      "(1839, 1)\n",
      "(1759, 1)\n",
      "(1849, 1)\n",
      "(1851, 1)\n",
      "(1852, 1)\n",
      "(1854, 1)\n",
      "(1858, 1)\n",
      "(1861, 1)\n",
      "(1865, 1)\n",
      "(1876, 1)\n",
      "(1889, 1)\n",
      "(1879, 1)\n",
      "(1880, 1)\n",
      "(1894, 1)\n",
      "(1878, 1)\n",
      "(1896, 1)\n",
      "(1897, 1)\n",
      "(1883, 1)\n",
      "(1886, 1)\n",
      "(1900, 1)\n",
      "(1901, 1)\n",
      "(1902, 1)\n",
      "(1905, 1)\n",
      "(1906, 1)\n",
      "(1908, 1)\n",
      "(1375, 1)\n",
      "(1913, 1)\n",
      "(1914, 1)\n",
      "(1915, 1)\n",
      "(1920, 1)\n",
      "(1921, 1)\n",
      "(1887, 1)\n",
      "(1923, 1)\n"
     ]
    }
   ],
   "source": [
    "query = ('''    SELECT Published, COUNT(DISTINCT(Title)) AS TotalNumberOfPublishedBooks\n",
    "                FROM Books\n",
    "                GROUP BY Published\n",
    "                ORDER BY TotalNumberOfPublishedBooks DESC;       ''')\n",
    "\n",
    "cursor.execute(query)\n",
    "\n",
    "data = cursor.fetchall()\n",
    "for x in data:\n",
    "    print(x)        "
   ]
  },
  {
   "cell_type": "markdown",
   "metadata": {},
   "source": [
    "## create a report to show 5 most popular Books to check out"
   ]
  },
  {
   "cell_type": "code",
   "execution_count": 12,
   "metadata": {},
   "outputs": [
    {
     "name": "stdout",
     "output_type": "stream",
     "text": [
      "('Frankenstein; Or, The Modern Prometheus', 'Mary Wollstonecraft Shelley', 1818, 53)\n",
      "('The Picture of Dorian Gray', 'Oscar Wilde', 1890, 44)\n",
      "('The Awakening, and Selected Short Stories', 'Kate Chopin', 1899, 43)\n",
      "('The War of the Worlds', 'H. G. Wells', 1898, 43)\n",
      "('The Scarlet Letter', 'Nathaniel Hawthorne', 1850, 42)\n"
     ]
    }
   ],
   "source": [
    "query = ('''    SELECT b.Title, b.Author, b.Published, COUNT(b.Title) AS TotalTimesOfLoans\n",
    "                FROM Books b\n",
    "                JOIN Loans l\n",
    "                ON b.BookID = l.BookID\n",
    "                GROUP BY b.Title\n",
    "                ORDER BY 4 DESC\n",
    "                LIMIT 5;      ''')\n",
    "\n",
    "cursor.execute(query)\n",
    "\n",
    "data = cursor.fetchall()\n",
    "for x in data:\n",
    "    print(x)        "
   ]
  },
  {
   "cell_type": "markdown",
   "metadata": {},
   "source": [
    "# Add new books to the library"
   ]
  },
  {
   "cell_type": "code",
   "execution_count": 13,
   "metadata": {},
   "outputs": [],
   "source": [
    "query = ('''    INSERT IGNORE INTO Books(Title, Author, Published, Barcode)\n",
    "                VALUES\n",
    "                ('Dracula', 'Bram Stoker', 1897, 4819277482),\n",
    "                ('Gulliver''s Travel', 'Johnathan Swift',1729,4899254401);          ''')\n",
    "\n",
    "cursor.execute(query)\n",
    "\n",
    "data = cursor.fetchall()\n",
    "for x in data:\n",
    "    print(x)"
   ]
  },
  {
   "cell_type": "code",
   "execution_count": 14,
   "metadata": {},
   "outputs": [],
   "source": [
    "library.commit()"
   ]
  },
  {
   "cell_type": "markdown",
   "metadata": {},
   "source": [
    "# Check out Books"
   ]
  },
  {
   "cell_type": "code",
   "execution_count": 15,
   "metadata": {},
   "outputs": [],
   "source": [
    "\n",
    "query = ('''    INSERT INTO Loans(BookID, PatronID, LoanDate, DueDate)\n",
    "            VALUES\n",
    "            (\n",
    "                (SELECT BookID FROM Books WHERE Barcode = 4043822646),\n",
    "                (SELECT PatronID FROM Patrons WHERE Email LIKE 'jvaan@wisdompets.com'),\n",
    "                '2020-08-25',\n",
    "                '2020-09-08'\n",
    "            ),\n",
    "            (\n",
    "                (SELECT BookID FROM Books WHERE Barcode = 2855934983),\n",
    "                (SELECT PatronID FROM Patrons WHERE Email LIKE 'jvaan@wisdompets.com'),\n",
    "                '2020-08-25',\n",
    "                '2020-09-08'\n",
    "            );\n",
    "\n",
    "            SELECT * FROM Loans\n",
    "            ORDER BY LoanID DESC\n",
    "            LIMIT 5;            ''')\n",
    "\n",
    "cursor.execute(query)\n",
    "\n",
    "data = cursor.fetchall()\n",
    "for x in data:\n",
    "    print(x)"
   ]
  },
  {
   "cell_type": "code",
   "execution_count": 17,
   "metadata": {},
   "outputs": [
    {
     "name": "stdout",
     "output_type": "stream",
     "text": [
      "('Frankenstein; Or, The Modern Prometheus', 'Mary Wollstonecraft Shelley', 1818, 53)\n",
      "('The Picture of Dorian Gray', 'Oscar Wilde', 1890, 44)\n",
      "('The Awakening, and Selected Short Stories', 'Kate Chopin', 1899, 43)\n",
      "('The War of the Worlds', 'H. G. Wells', 1898, 43)\n",
      "('The Scarlet Letter', 'Nathaniel Hawthorne', 1850, 42)\n"
     ]
    }
   ],
   "source": [
    "library.reconnect()\n",
    "\n",
    "query = ('''    SELECT b.Title, b.Author, b.Published, COUNT(b.Title) AS TotalTimesOfLoans\n",
    "                FROM Books b\n",
    "                JOIN Loans l\n",
    "                ON b.BookID = l.BookID\n",
    "                GROUP BY b.Title\n",
    "                ORDER BY 4 DESC\n",
    "                LIMIT 5;            ''')\n",
    "\n",
    "cursor.execute(query)\n",
    "\n",
    "data = cursor.fetchall()\n",
    "for x in data:\n",
    "    print(x)"
   ]
  }
 ],
 "metadata": {
  "kernelspec": {
   "display_name": "Python 3.9.12 ('base')",
   "language": "python",
   "name": "python3"
  },
  "language_info": {
   "codemirror_mode": {
    "name": "ipython",
    "version": 3
   },
   "file_extension": ".py",
   "mimetype": "text/x-python",
   "name": "python",
   "nbconvert_exporter": "python",
   "pygments_lexer": "ipython3",
   "version": "3.9.12"
  },
  "orig_nbformat": 4,
  "vscode": {
   "interpreter": {
    "hash": "78c960279fecff9e244480132042affa22d495e3cfc64966045877e7ad2bb26d"
   }
  }
 },
 "nbformat": 4,
 "nbformat_minor": 2
}
